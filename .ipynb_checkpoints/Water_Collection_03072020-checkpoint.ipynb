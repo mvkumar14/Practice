{
 "cells": [
  {
   "cell_type": "markdown",
   "metadata": {},
   "source": [
    "## Amazon Software Dev Question:\n",
    "https://medium.com/javascript-in-plain-english/amazon-software-development-engineer-interview-questions-a40a6b092c3a"
   ]
  },
  {
   "cell_type": "markdown",
   "metadata": {},
   "source": [
    "## To Do:\n",
    "- Refactor to eliminate waste code (clean code)\n",
    "- run more test cases\n",
    "- create a visualizer that draws out the diagram every time"
   ]
  },
  {
   "cell_type": "code",
   "execution_count": null,
   "metadata": {},
   "outputs": [],
   "source": [
    "test_input = [0,1,0,2,1,0,1,3,2,1,2,1]"
   ]
  },
  {
   "cell_type": "code",
   "execution_count": 30,
   "metadata": {},
   "outputs": [
    {
     "data": {
      "text/plain": [
       "([0, 0, 0, 1, 0, 0, 0, 1, 1, 0, 1, 0], [0, 0, 0, 1, 0, 0, 0, 2, 1, 0, 1, 0])"
      ]
     },
     "execution_count": 30,
     "metadata": {},
     "output_type": "execute_result"
    }
   ],
   "source": [
    "a = next_level(test_input)\n",
    "a"
   ]
  },
  {
   "cell_type": "code",
   "execution_count": 32,
   "metadata": {},
   "outputs": [
    {
     "data": {
      "text/plain": [
       "([0, 0, 0, 0, 0, 0, 0, 1, 0, 0, 0, 0], [0, 0, 0, 0, 0, 0, 0, 1, 0, 0, 0, 0])"
      ]
     },
     "execution_count": 32,
     "metadata": {},
     "output_type": "execute_result"
    }
   ],
   "source": [
    "next_level(a[1])"
   ]
  },
  {
   "cell_type": "code",
   "execution_count": 43,
   "metadata": {},
   "outputs": [
    {
     "data": {
      "text/plain": [
       "[1, 0, 0, 0, 1, 1, 0]"
      ]
     },
     "execution_count": 43,
     "metadata": {},
     "output_type": "execute_result"
    }
   ],
   "source": [
    "strip_zeros(a[0])"
   ]
  },
  {
   "cell_type": "code",
   "execution_count": 50,
   "metadata": {},
   "outputs": [
    {
     "data": {
      "text/plain": [
       "4"
      ]
     },
     "execution_count": 50,
     "metadata": {},
     "output_type": "execute_result"
    }
   ],
   "source": [
    "water_collected(a[0]) "
   ]
  },
  {
   "cell_type": "code",
   "execution_count": 59,
   "metadata": {},
   "outputs": [
    {
     "data": {
      "text/plain": [
       "[[0, 1, 0, 2, 1, 0, 1, 3, 2, 1, 2, 1],\n",
       " [0, 0, 0, 1, 0, 0, 0, 2, 1, 0, 1, 0],\n",
       " [0, 0, 0, 0, 0, 0, 0, 1, 0, 0, 0, 0]]"
      ]
     },
     "execution_count": 59,
     "metadata": {},
     "output_type": "execute_result"
    }
   ],
   "source": [
    "b = all_lvls(test_input)\n",
    "b"
   ]
  },
  {
   "cell_type": "code",
   "execution_count": 64,
   "metadata": {},
   "outputs": [
    {
     "data": {
      "text/plain": [
       "6"
      ]
     },
     "execution_count": 64,
     "metadata": {},
     "output_type": "execute_result"
    }
   ],
   "source": [
    "total_water_collected(test_input)"
   ]
  },
  {
   "cell_type": "code",
   "execution_count": 6,
   "metadata": {},
   "outputs": [],
   "source": [
    "def visualizer():\n",
    "    pass"
   ]
  },
  {
   "cell_type": "code",
   "execution_count": 63,
   "metadata": {},
   "outputs": [],
   "source": [
    "def total_water_collected(in_list):\n",
    "    list_of_levels = all_lvls(in_list) \n",
    "    water_total=0\n",
    "    for i in list_of_levels:\n",
    "        tmp = normalize(i)\n",
    "        water_total += water_collected(tmp)\n",
    "    return water_total\n",
    "    "
   ]
  },
  {
   "cell_type": "code",
   "execution_count": 47,
   "metadata": {},
   "outputs": [],
   "source": [
    "def water_collected(in_list):\n",
    "    # Do it by level?\n",
    "    # turn everything into zeros and ones (anything above 1 = 1)\n",
    "    # Get rid of starting and ending zeros\n",
    "    # sum all existing zeros.\n",
    "    stripped_list = strip_zeros(in_list)\n",
    "    collected = len(stripped_list)-sum(stripped_list)\n",
    "    return collected"
   ]
  },
  {
   "cell_type": "code",
   "execution_count": 56,
   "metadata": {},
   "outputs": [],
   "source": [
    "def strip_zeros(in_list):\n",
    "    # take an input array and output a new array \n",
    "    # that doesn't have starting and ending zeroes\n",
    "    for index,i in enumerate(in_list):\n",
    "        if i>=1:\n",
    "            start = index\n",
    "            break\n",
    "    for index, i in enumerate(in_list):\n",
    "        if in_list[-index] >=1:\n",
    "            end = -index\n",
    "            break\n",
    "    out_list = in_list[start:end]\n",
    "    return out_list\n",
    "            "
   ]
  },
  {
   "cell_type": "code",
   "execution_count": 57,
   "metadata": {},
   "outputs": [],
   "source": [
    "def normalize(in_list):\n",
    "    normal_list = []\n",
    "    for i in in_list:\n",
    "        if i <= 0:\n",
    "            normal_list.append(0)\n",
    "        else: \n",
    "            normal_list.append(1)\n",
    "    return normal_list"
   ]
  },
  {
   "cell_type": "code",
   "execution_count": 29,
   "metadata": {},
   "outputs": [],
   "source": [
    "def next_level(in_list):\n",
    "    \"\"\"\n",
    "    Function to create next level of \n",
    "    Input:\n",
    "    list\n",
    "    \n",
    "    Output:\n",
    "    A representation of the next layer of the list\n",
    "    \"\"\"\n",
    "    normal_list = []\n",
    "    next_level = []\n",
    "    for i in in_list:\n",
    "        if i-1 <= 0:\n",
    "            next_level.append(0)\n",
    "            normal_list.append(0)\n",
    "        else: \n",
    "            next_level.append(i-1)\n",
    "            normal_list.append(1)\n",
    "    return normal_list,next_level\n",
    "    "
   ]
  },
  {
   "cell_type": "code",
   "execution_count": 54,
   "metadata": {},
   "outputs": [],
   "source": [
    "def all_lvls(first_level):\n",
    "    this_lvl = first_level\n",
    "    lvls = [this_lvl]\n",
    "    while max(this_lvl) > 1:\n",
    "        normal,nextlvl = next_level(this_lvl)\n",
    "        lvls.append(nextlvl)\n",
    "        this_lvl = nextlvl\n",
    "    return lvls\n"
   ]
  }
 ],
 "metadata": {
  "kernelspec": {
   "display_name": "U4-S3-DNN (Python3)",
   "language": "python",
   "name": "u4-s3-dnn"
  },
  "language_info": {
   "codemirror_mode": {
    "name": "ipython",
    "version": 3
   },
   "file_extension": ".py",
   "mimetype": "text/x-python",
   "name": "python",
   "nbconvert_exporter": "python",
   "pygments_lexer": "ipython3",
   "version": "3.7.0"
  }
 },
 "nbformat": 4,
 "nbformat_minor": 4
}
