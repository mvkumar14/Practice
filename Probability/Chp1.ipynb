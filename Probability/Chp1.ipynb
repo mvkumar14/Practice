{
 "cells": [
  {
   "cell_type": "code",
   "execution_count": 100,
   "metadata": {},
   "outputs": [],
   "source": [
    "# Chapter 1 Exercises\n",
    "import matplotlib.pyplot as plt\n"
   ]
  },
  {
   "cell_type": "code",
   "execution_count": 2,
   "metadata": {},
   "outputs": [],
   "source": [
    "# Gambler's ruin problem\n",
    "# gambler either wins with probability of p or loses with probabiliyt\n",
    "# of 1-p\n",
    "\n",
    "# gambler starts with $i and \n",
    "# desires to win $N\n",
    "\n",
    "# I want a function to simulate\n",
    "# this and either return \"broke\" or \"success\""
   ]
  },
  {
   "cell_type": "code",
   "execution_count": 82,
   "metadata": {},
   "outputs": [],
   "source": [
    "import random\n",
    "\n",
    "def gamblers_ruin(i,N,p): # probability is the n in -> 1/n chance\n",
    "    p = p*100\n",
    "    outcomes = list(range(100))\n",
    "    while i > 0:\n",
    "        a = random.choice(outcomes)\n",
    "        if a < p:\n",
    "            i += 1 \n",
    "        else:\n",
    "            i -= 1\n",
    "        if i == N:\n",
    "            return True\n",
    "    return False"
   ]
  },
  {
   "cell_type": "code",
   "execution_count": 81,
   "metadata": {},
   "outputs": [
    {
     "data": {
      "text/plain": [
       "23"
      ]
     },
     "execution_count": 81,
     "metadata": {},
     "output_type": "execute_result"
    }
   ],
   "source": [
    "int(0.237*100//1)"
   ]
  },
  {
   "cell_type": "code",
   "execution_count": 84,
   "metadata": {},
   "outputs": [
    {
     "data": {
      "text/plain": [
       "False"
      ]
     },
     "execution_count": 84,
     "metadata": {},
     "output_type": "execute_result"
    }
   ],
   "source": [
    "gamblers_ruin(2,6,0.5)"
   ]
  },
  {
   "cell_type": "code",
   "execution_count": 66,
   "metadata": {},
   "outputs": [],
   "source": [
    "def monte_carlo(num_runs,func,*params):\n",
    "    results = []\n",
    "    for i in range(num_runs):\n",
    "        results.append(func(params[0],params[1],params[2]))\n",
    "    return results"
   ]
  },
  {
   "cell_type": "code",
   "execution_count": 69,
   "metadata": {},
   "outputs": [],
   "source": [
    "num_runs = 1000"
   ]
  },
  {
   "cell_type": "code",
   "execution_count": 85,
   "metadata": {},
   "outputs": [
    {
     "name": "stdout",
     "output_type": "stream",
     "text": [
      "parameters:\n",
      "number of runs: 1000\n",
      "starting amount: 2\n",
      "desired amount: 6\n",
      "chance of success per 'roll': 2.0\n",
      "\n",
      "success rate: 0.327\n"
     ]
    }
   ],
   "source": [
    "# 1.7 - a\n",
    "starting_amount = 2\n",
    "desired_amount = 6\n",
    "p = 0.5 # 50% chance of win\n",
    "\n",
    "results = monte_carlo(num_runs,gamblers_ruin,starting_amount,desired_amount,p)\n",
    "success_rate = sum(results)/len(results)\n",
    "print(\"parameters:\")\n",
    "print('number of runs:', num_runs)\n",
    "print('starting amount:',starting_amount)\n",
    "print('desired amount:',desired_amount)\n",
    "print(\"chance of success per 'roll':\",1/p)\n",
    "print()\n",
    "print(\"success rate:\", success_rate)"
   ]
  },
  {
   "cell_type": "code",
   "execution_count": 86,
   "metadata": {},
   "outputs": [
    {
     "name": "stdout",
     "output_type": "stream",
     "text": [
      "parameters:\n",
      "number of runs: 1000\n",
      "starting amount: 4\n",
      "desired amount: 6\n",
      "chance of success per 'roll': 2.0\n",
      "\n",
      "success rate: 0.691\n"
     ]
    }
   ],
   "source": [
    "# 1.7 - b\n",
    "starting_amount = 4\n",
    "desired_amount = 6\n",
    "p = 0.5 # 1/2 chance of win\n",
    "\n",
    "results = monte_carlo(num_runs,gamblers_ruin,starting_amount,desired_amount,p)\n",
    "success_rate = sum(results)/len(results)\n",
    "print(\"parameters:\")\n",
    "print('number of runs:', num_runs)\n",
    "print('starting amount:',starting_amount)\n",
    "print('desired amount:',desired_amount)\n",
    "print(\"chance of success per 'roll':\",1/p)\n",
    "print()\n",
    "print(\"success rate:\", success_rate)"
   ]
  },
  {
   "cell_type": "code",
   "execution_count": 89,
   "metadata": {},
   "outputs": [
    {
     "name": "stdout",
     "output_type": "stream",
     "text": [
      "parameters:\n",
      "number of runs: 1000\n",
      "starting amount: 4\n",
      "desired amount: 6\n",
      "chance of success per 'roll': 5.0\n",
      "\n",
      "success rate: 0.058\n"
     ]
    }
   ],
   "source": [
    "# 1.7 - b\n",
    "starting_amount = 4\n",
    "desired_amount = 6\n",
    "p = 0.2 # 1/2 chance of win\n",
    "\n",
    "results = monte_carlo(num_runs,gamblers_ruin,starting_amount,desired_amount,p)\n",
    "success_rate = sum(results)/len(results)\n",
    "print(\"parameters:\")\n",
    "print('number of runs:', num_runs)\n",
    "print('starting amount:',starting_amount)\n",
    "print('desired amount:',desired_amount)\n",
    "print(\"chance of success per 'roll':\",1/p)\n",
    "print()\n",
    "print(\"success rate:\", success_rate)"
   ]
  },
  {
   "cell_type": "code",
   "execution_count": 102,
   "metadata": {},
   "outputs": [
    {
     "data": {
      "image/png": "[encoded data removed]",
      "text/plain": [
       "<Figure size 432x288 with 1 Axes>"
      ]
     },
     "metadata": {
      "needs_background": "light"
     },
     "output_type": "display_data"
    }
   ],
   "source": [
    "# 1.8 - b\n",
    "starting_amount = 4\n",
    "desired_amount = 6\n",
    "success_rates = []\n",
    "a = list(range(0,100,2))\n",
    "b = [i/100 for i in a]\n",
    "for i in b:\n",
    "    p = i\n",
    "    results = monte_carlo(num_runs,gamblers_ruin,starting_amount,desired_amount,p)\n",
    "    success_rate = sum(results)/len(results)\n",
    "    success_rates.append(success_rate)\n",
    "plt.plot(b,success_rates)\n",
    "plt.show()"
   ]
  },
  {
   "cell_type": "code",
   "execution_count": null,
   "metadata": {},
   "outputs": [],
   "source": []
  }
 ],
 "metadata": {
  "kernelspec": {
   "display_name": "U4-S3-DNN (Python3)",
   "language": "python",
   "name": "u4-s3-dnn"
  },
  "language_info": {
   "codemirror_mode": {
    "name": "ipython",
    "version": 3
   },
   "file_extension": ".py",
   "mimetype": "text/x-python",
   "name": "python",
   "nbconvert_exporter": "python",
   "pygments_lexer": "ipython3",
   "version": "3.7.0"
  }
 },
 "nbformat": 4,
 "nbformat_minor": 4
}
